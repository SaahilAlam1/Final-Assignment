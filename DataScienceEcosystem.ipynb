{
 "cells": [
  {
   "cell_type": "markdown",
   "id": "2cbf09e6",
   "metadata": {},
   "source": [
    "# Data Science Tools and Ecosystem"
   ]
  },
  {
   "cell_type": "markdown",
   "id": "cd7d6f60",
   "metadata": {},
   "source": [
    "### In this notebook, Data Science Tools and Ecosystem are summarized."
   ]
  },
  {
   "cell_type": "markdown",
   "id": "235c1808",
   "metadata": {},
   "source": [
    "### __Objectives:__\n",
    "    - List popular languages used in Data Science\n",
    "    - List commonly used libraries in Data Science\n",
    "    - List commonly used development environment open source tools in Data Science using a table\n",
    "    - Demonstrate the execution of arithmetic operations in Python "
   ]
  },
  {
   "cell_type": "markdown",
   "id": "6f590fc7",
   "metadata": {},
   "source": [
    "#### Some of the popular languages that Data Scientists use are:\n",
    "     1. Python\n",
    "     2. R\n",
    "     3. Julia\n",
    "     4. Java\n",
    "     "
   ]
  },
  {
   "cell_type": "markdown",
   "id": "84060a15",
   "metadata": {},
   "source": [
    "#### Some of the commonly used libraries used by Data Scientists include:\n",
    "     1. Pandas\n",
    "     2. Numpy\n",
    "     3. Tensorflow\n",
    "     4. scikit-learn\n",
    "     "
   ]
  },
  {
   "cell_type": "markdown",
   "id": "82118a34",
   "metadata": {},
   "source": [
    "| Data Science Tools |\n",
    "| -------------|\n",
    "| Spyder |\n",
    "| RStudio | \n",
    "| Jupyter Notebooks |"
   ]
  },
  {
   "cell_type": "markdown",
   "id": "da22d411",
   "metadata": {},
   "source": [
    "### Below are a few examples of evaluating arithmetic expressions in Python"
   ]
  },
  {
   "cell_type": "code",
   "execution_count": 1,
   "id": "2481de43",
   "metadata": {},
   "outputs": [
    {
     "data": {
      "text/plain": [
       "17"
      ]
     },
     "execution_count": 1,
     "metadata": {},
     "output_type": "execute_result"
    }
   ],
   "source": [
    "# This a simple arithmetic expression to mutiply then add integers\n",
    "(3*4)+5"
   ]
  },
  {
   "cell_type": "code",
   "execution_count": 3,
   "id": "50281008",
   "metadata": {},
   "outputs": [
    {
     "name": "stdout",
     "output_type": "stream",
     "text": [
      "200 minutes equals 3.3333333333333335 hours\n"
     ]
    }
   ],
   "source": [
    "# This will convert 200 minutes to hours by diving by 60\n",
    "x = 200/60\n",
    "print(f\"200 minutes equals {x} hours\")"
   ]
  },
  {
   "cell_type": "markdown",
   "id": "c221db32",
   "metadata": {},
   "source": [
    "## Author\n",
    "Khan Saahil Alam"
   ]
  }
 ],
 "metadata": {
  "kernelspec": {
   "display_name": "Python 3 (ipykernel)",
   "language": "python",
   "name": "python3"
  },
  "language_info": {
   "codemirror_mode": {
    "name": "ipython",
    "version": 3
   },
   "file_extension": ".py",
   "mimetype": "text/x-python",
   "name": "python",
   "nbconvert_exporter": "python",
   "pygments_lexer": "ipython3",
   "version": "3.9.13"
  }
 },
 "nbformat": 4,
 "nbformat_minor": 5
}
